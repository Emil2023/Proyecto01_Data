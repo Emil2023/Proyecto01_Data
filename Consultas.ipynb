{
 "cells": [
  {
   "cell_type": "code",
   "execution_count": 23,
   "metadata": {},
   "outputs": [],
   "source": [
    "import pandas as pd\n",
    "\n",
    "df = pd.read_csv(r\"C:\\Users\\WINDOW 10\\Desktop\\Labs 2\\movie_dataset_clean.csv\")\n"
   ]
  },
  {
   "cell_type": "code",
   "execution_count": 19,
   "metadata": {},
   "outputs": [
    {
     "data": {
      "text/html": [
       "<div>\n",
       "<style scoped>\n",
       "    .dataframe tbody tr th:only-of-type {\n",
       "        vertical-align: middle;\n",
       "    }\n",
       "\n",
       "    .dataframe tbody tr th {\n",
       "        vertical-align: top;\n",
       "    }\n",
       "\n",
       "    .dataframe thead th {\n",
       "        text-align: right;\n",
       "    }\n",
       "</style>\n",
       "<table border=\"1\" class=\"dataframe\">\n",
       "  <thead>\n",
       "    <tr style=\"text-align: right;\">\n",
       "      <th></th>\n",
       "      <th>budget</th>\n",
       "      <th>id</th>\n",
       "      <th>original_language</th>\n",
       "      <th>overview</th>\n",
       "      <th>popularity</th>\n",
       "      <th>release_date</th>\n",
       "      <th>revenue</th>\n",
       "      <th>runtime</th>\n",
       "      <th>spoken_languages</th>\n",
       "      <th>status</th>\n",
       "      <th>...</th>\n",
       "      <th>collection_poster</th>\n",
       "      <th>collection_backdrop</th>\n",
       "      <th>genre_ids</th>\n",
       "      <th>genre_names</th>\n",
       "      <th>production_companies_ids</th>\n",
       "      <th>production_companies_names</th>\n",
       "      <th>country</th>\n",
       "      <th>release_month</th>\n",
       "      <th>elenco</th>\n",
       "      <th>directores</th>\n",
       "    </tr>\n",
       "  </thead>\n",
       "  <tbody>\n",
       "    <tr>\n",
       "      <th>0</th>\n",
       "      <td>30000000.0</td>\n",
       "      <td>862.0</td>\n",
       "      <td>en</td>\n",
       "      <td>Led by Woody, Andy's toys live happily in his ...</td>\n",
       "      <td>21.946943</td>\n",
       "      <td>1995-10-30</td>\n",
       "      <td>373554033.0</td>\n",
       "      <td>81.0</td>\n",
       "      <td>English</td>\n",
       "      <td>Released</td>\n",
       "      <td>...</td>\n",
       "      <td>/7G9915LfUQ2lVfwMEEhDsn3kT4B.jpg</td>\n",
       "      <td>/9FBwqcd9IRruEDUrTdcaafOMKUq.jpg</td>\n",
       "      <td>[16, 35, 10751]</td>\n",
       "      <td>['Animation', 'Comedy', 'Family']</td>\n",
       "      <td>[3]</td>\n",
       "      <td>['Pixar Animation Studios']</td>\n",
       "      <td>United States of America</td>\n",
       "      <td>10</td>\n",
       "      <td>['Tom Hanks', 'Tim Allen', 'Don Rickles', 'Jim...</td>\n",
       "      <td>['John Lasseter', 'Joss Whedon', 'Andrew Stant...</td>\n",
       "    </tr>\n",
       "    <tr>\n",
       "      <th>1</th>\n",
       "      <td>65000000.0</td>\n",
       "      <td>8844.0</td>\n",
       "      <td>en</td>\n",
       "      <td>When siblings Judy and Peter discover an encha...</td>\n",
       "      <td>17.015539</td>\n",
       "      <td>1995-12-15</td>\n",
       "      <td>262797249.0</td>\n",
       "      <td>104.0</td>\n",
       "      <td>English</td>\n",
       "      <td>Released</td>\n",
       "      <td>...</td>\n",
       "      <td>NaN</td>\n",
       "      <td>NaN</td>\n",
       "      <td>[12, 14, 10751]</td>\n",
       "      <td>['Adventure', 'Fantasy', 'Family']</td>\n",
       "      <td>[559, 2550, 10201]</td>\n",
       "      <td>['TriStar Pictures', 'Teitler Film', 'Intersco...</td>\n",
       "      <td>United States of America</td>\n",
       "      <td>12</td>\n",
       "      <td>['Robin Williams', 'Jonathan Hyde', 'Kirsten D...</td>\n",
       "      <td>['Larry J. Franco', 'Jonathan Hensleigh', 'Jam...</td>\n",
       "    </tr>\n",
       "    <tr>\n",
       "      <th>2</th>\n",
       "      <td>0.0</td>\n",
       "      <td>15602.0</td>\n",
       "      <td>en</td>\n",
       "      <td>A family wedding reignites the ancient feud be...</td>\n",
       "      <td>11.712900</td>\n",
       "      <td>1995-12-22</td>\n",
       "      <td>0.0</td>\n",
       "      <td>101.0</td>\n",
       "      <td>English</td>\n",
       "      <td>Released</td>\n",
       "      <td>...</td>\n",
       "      <td>/nLvUdqgPgm3F85NMCii9gVFUcet.jpg</td>\n",
       "      <td>/hypTnLot2z8wpFS7qwsQHW1uV8u.jpg</td>\n",
       "      <td>[10749, 35]</td>\n",
       "      <td>['Romance', 'Comedy']</td>\n",
       "      <td>[6194, 19464]</td>\n",
       "      <td>['Warner Bros.', 'Lancaster Gate']</td>\n",
       "      <td>United States of America</td>\n",
       "      <td>12</td>\n",
       "      <td>['Walter Matthau', 'Jack Lemmon', 'Ann-Margret...</td>\n",
       "      <td>['Howard Deutch', 'Mark Steven Johnson', 'Mark...</td>\n",
       "    </tr>\n",
       "    <tr>\n",
       "      <th>3</th>\n",
       "      <td>16000000.0</td>\n",
       "      <td>31357.0</td>\n",
       "      <td>en</td>\n",
       "      <td>Cheated on, mistreated and stepped on, the wom...</td>\n",
       "      <td>3.859495</td>\n",
       "      <td>1995-12-22</td>\n",
       "      <td>81452156.0</td>\n",
       "      <td>127.0</td>\n",
       "      <td>English</td>\n",
       "      <td>Released</td>\n",
       "      <td>...</td>\n",
       "      <td>NaN</td>\n",
       "      <td>NaN</td>\n",
       "      <td>[35, 18, 10749]</td>\n",
       "      <td>['Comedy', 'Drama', 'Romance']</td>\n",
       "      <td>[306]</td>\n",
       "      <td>['Twentieth Century Fox Film Corporation']</td>\n",
       "      <td>United States of America</td>\n",
       "      <td>12</td>\n",
       "      <td>['Whitney Houston', 'Angela Bassett', 'Loretta...</td>\n",
       "      <td>['Forest Whitaker', 'Ronald Bass', 'Ronald Bas...</td>\n",
       "    </tr>\n",
       "    <tr>\n",
       "      <th>4</th>\n",
       "      <td>0.0</td>\n",
       "      <td>11862.0</td>\n",
       "      <td>en</td>\n",
       "      <td>Just when George Banks has recovered from his ...</td>\n",
       "      <td>8.387519</td>\n",
       "      <td>1995-02-10</td>\n",
       "      <td>76578911.0</td>\n",
       "      <td>106.0</td>\n",
       "      <td>English</td>\n",
       "      <td>Released</td>\n",
       "      <td>...</td>\n",
       "      <td>/nts4iOmNnq7GNicycMJ9pSAn204.jpg</td>\n",
       "      <td>/7qwE57OVZmMJChBpLEbJEmzUydk.jpg</td>\n",
       "      <td>[35]</td>\n",
       "      <td>['Comedy']</td>\n",
       "      <td>[5842, 9195]</td>\n",
       "      <td>['Sandollar Productions', 'Touchstone Pictures']</td>\n",
       "      <td>United States of America</td>\n",
       "      <td>2</td>\n",
       "      <td>['Steve Martin', 'Diane Keaton', 'Martin Short...</td>\n",
       "      <td>['Alan Silvestri', 'Elliot Davis', 'Nancy Meye...</td>\n",
       "    </tr>\n",
       "  </tbody>\n",
       "</table>\n",
       "<p>5 rows × 28 columns</p>\n",
       "</div>"
      ],
      "text/plain": [
       "       budget       id original_language  \\\n",
       "0  30000000.0    862.0                en   \n",
       "1  65000000.0   8844.0                en   \n",
       "2         0.0  15602.0                en   \n",
       "3  16000000.0  31357.0                en   \n",
       "4         0.0  11862.0                en   \n",
       "\n",
       "                                            overview  popularity release_date  \\\n",
       "0  Led by Woody, Andy's toys live happily in his ...   21.946943   1995-10-30   \n",
       "1  When siblings Judy and Peter discover an encha...   17.015539   1995-12-15   \n",
       "2  A family wedding reignites the ancient feud be...   11.712900   1995-12-22   \n",
       "3  Cheated on, mistreated and stepped on, the wom...    3.859495   1995-12-22   \n",
       "4  Just when George Banks has recovered from his ...    8.387519   1995-02-10   \n",
       "\n",
       "       revenue  runtime spoken_languages    status  ...  \\\n",
       "0  373554033.0     81.0          English  Released  ...   \n",
       "1  262797249.0    104.0          English  Released  ...   \n",
       "2          0.0    101.0          English  Released  ...   \n",
       "3   81452156.0    127.0          English  Released  ...   \n",
       "4   76578911.0    106.0          English  Released  ...   \n",
       "\n",
       "                  collection_poster               collection_backdrop  \\\n",
       "0  /7G9915LfUQ2lVfwMEEhDsn3kT4B.jpg  /9FBwqcd9IRruEDUrTdcaafOMKUq.jpg   \n",
       "1                               NaN                               NaN   \n",
       "2  /nLvUdqgPgm3F85NMCii9gVFUcet.jpg  /hypTnLot2z8wpFS7qwsQHW1uV8u.jpg   \n",
       "3                               NaN                               NaN   \n",
       "4  /nts4iOmNnq7GNicycMJ9pSAn204.jpg  /7qwE57OVZmMJChBpLEbJEmzUydk.jpg   \n",
       "\n",
       "         genre_ids                         genre_names  \\\n",
       "0  [16, 35, 10751]   ['Animation', 'Comedy', 'Family']   \n",
       "1  [12, 14, 10751]  ['Adventure', 'Fantasy', 'Family']   \n",
       "2      [10749, 35]               ['Romance', 'Comedy']   \n",
       "3  [35, 18, 10749]      ['Comedy', 'Drama', 'Romance']   \n",
       "4             [35]                          ['Comedy']   \n",
       "\n",
       "   production_companies_ids  \\\n",
       "0                       [3]   \n",
       "1        [559, 2550, 10201]   \n",
       "2             [6194, 19464]   \n",
       "3                     [306]   \n",
       "4              [5842, 9195]   \n",
       "\n",
       "                          production_companies_names  \\\n",
       "0                        ['Pixar Animation Studios']   \n",
       "1  ['TriStar Pictures', 'Teitler Film', 'Intersco...   \n",
       "2                 ['Warner Bros.', 'Lancaster Gate']   \n",
       "3         ['Twentieth Century Fox Film Corporation']   \n",
       "4   ['Sandollar Productions', 'Touchstone Pictures']   \n",
       "\n",
       "                    country release_month  \\\n",
       "0  United States of America            10   \n",
       "1  United States of America            12   \n",
       "2  United States of America            12   \n",
       "3  United States of America            12   \n",
       "4  United States of America             2   \n",
       "\n",
       "                                              elenco  \\\n",
       "0  ['Tom Hanks', 'Tim Allen', 'Don Rickles', 'Jim...   \n",
       "1  ['Robin Williams', 'Jonathan Hyde', 'Kirsten D...   \n",
       "2  ['Walter Matthau', 'Jack Lemmon', 'Ann-Margret...   \n",
       "3  ['Whitney Houston', 'Angela Bassett', 'Loretta...   \n",
       "4  ['Steve Martin', 'Diane Keaton', 'Martin Short...   \n",
       "\n",
       "                                          directores  \n",
       "0  ['John Lasseter', 'Joss Whedon', 'Andrew Stant...  \n",
       "1  ['Larry J. Franco', 'Jonathan Hensleigh', 'Jam...  \n",
       "2  ['Howard Deutch', 'Mark Steven Johnson', 'Mark...  \n",
       "3  ['Forest Whitaker', 'Ronald Bass', 'Ronald Bas...  \n",
       "4  ['Alan Silvestri', 'Elliot Davis', 'Nancy Meye...  \n",
       "\n",
       "[5 rows x 28 columns]"
      ]
     },
     "execution_count": 19,
     "metadata": {},
     "output_type": "execute_result"
    }
   ],
   "source": [
    "df.head()"
   ]
  },
  {
   "cell_type": "code",
   "execution_count": 20,
   "metadata": {},
   "outputs": [],
   "source": [
    "df['release_date'] = pd.to_datetime(df['release_date'])\n",
    "df['release_month'] = df['release_date'].dt.month_name()\n",
    "df['release_day'] = df['release_date'].dt.day_name()\n",
    "def traductor_mes():\n",
    "    meses = {'January':'Enero', 'February':'Febrero', 'March':'Marzo', 'April':'Abril', 'May':'Mayo', 'June':'Junio', 'July':'Julio', 'August':'Agosto', 'September':'Septiembre', 'October':'Octubre', 'November':'Noviembre', 'December':'Diciembre'}\n",
    "    df['release_month'] = df['release_month'].map(meses)\n",
    "traductor_mes()\n",
    "def traductor_dia():\n",
    "    dias = {'Monday':'Lunes', 'Tuesday':'Martes', 'Wednesday':'Miercoles', 'Thursday':'Jueves', 'Friday':'Viernes', 'Saturday':'Sabado', 'Sunday':'Domingo'}\n",
    "    df['release_day'] = df['release_day'].map(dias)\n",
    "traductor_dia()"
   ]
  },
  {
   "cell_type": "code",
   "execution_count": 21,
   "metadata": {},
   "outputs": [],
   "source": [
    "def cantidad_filmaciones_mes(mes):\n",
    "#Diccionario para el usario ingrese el mes en español\n",
    "    df_mes = df[df['release_month'] == mes]\n",
    "    cantidad = len(df_mes)\n",
    "    return {'mes':mes, 'cantidad':cantidad}"
   ]
  },
  {
   "cell_type": "code",
   "execution_count": 22,
   "metadata": {},
   "outputs": [
    {
     "data": {
      "text/plain": [
       "{'mes': 'Marzo', 'cantidad': 3549}"
      ]
     },
     "execution_count": 22,
     "metadata": {},
     "output_type": "execute_result"
    }
   ],
   "source": [
    "cantidad_filmaciones_mes(\"Marzo\")"
   ]
  },
  {
   "cell_type": "code",
   "execution_count": 23,
   "metadata": {},
   "outputs": [],
   "source": [
    "def cantidad_filmaciones_dia(dia:str):\n",
    "    # Obtiene la cantidad de películas estrenadas en el día especificado\n",
    "    df_dia = df[df['release_day'] == dia]\n",
    "    cantidad = len(df_dia)\n",
    "    return {'dia':dia, 'cantidad':cantidad}"
   ]
  },
  {
   "cell_type": "code",
   "execution_count": 24,
   "metadata": {},
   "outputs": [
    {
     "data": {
      "text/plain": [
       "{'dia': 'Lunes', 'cantidad': 3500}"
      ]
     },
     "execution_count": 24,
     "metadata": {},
     "output_type": "execute_result"
    }
   ],
   "source": [
    "cantidad_filmaciones_dia(\"Lunes\")"
   ]
  },
  {
   "cell_type": "code",
   "execution_count": 16,
   "metadata": {},
   "outputs": [],
   "source": [
    "def score_titulo(titulo:str):\n",
    "    \n",
    "    # Filtrar el DataFrame por el título de la filmación\n",
    "    filtro_titulo = df['title'].str.lower() == titulo.lower()\n",
    "    pelicula = df[filtro_titulo]\n",
    "    \n",
    "    if len(pelicula) == 0:\n",
    "        return \"No se encontró la película.\"\n",
    "    \n",
    "    # Obtener el título, el año de estreno y el score de la película\n",
    "    titulo = pelicula['title'].values[0]\n",
    "    año_estreno = pelicula['release_year'].values[0]\n",
    "    score = pelicula['popularity'].values[0]\n",
    "    \n",
    "    # Formato de la respuesta\n",
    "    \n",
    "    return {'titulo':titulo, 'anio':año_estreno, 'popularidad':score}"
   ]
  },
  {
   "cell_type": "code",
   "execution_count": 17,
   "metadata": {},
   "outputs": [
    {
     "data": {
      "text/plain": [
       "{'titulo': 'Star Wars', 'anio': 1977, 'popularidad': 42.149697}"
      ]
     },
     "execution_count": 17,
     "metadata": {},
     "output_type": "execute_result"
    }
   ],
   "source": [
    "score_titulo(\"Star Wars\")\n"
   ]
  },
  {
   "cell_type": "code",
   "execution_count": 12,
   "metadata": {},
   "outputs": [],
   "source": [
    "def votos_titulo(titulo_de_la_filmación:str):\n",
    "    \n",
    "    # Convertir el título de la filmación a minúsculas\n",
    "    titulo_filtrar = titulo_de_la_filmación.lower()\n",
    "    \n",
    "    # Convertir la columna 'title' del DataFrame a minúsculas y filtrar\n",
    "    filtro_titulo = df['title'].str.lower() == titulo_filtrar\n",
    "    pelicula = df[filtro_titulo]\n",
    "    \n",
    "    if len(pelicula) == 0:\n",
    "        return \"No se encontró la película.\"\n",
    "    \n",
    "    # Obtener la cantidad de votos y el valor promedio de las votaciones\n",
    "    votos = pelicula['vote_count'].values[0]\n",
    "    \n",
    "    if votos < 2000:\n",
    "        return \"La película no cumple con la cantidad mínima de valoraciones.\"\n",
    "    \n",
    "    promedio = pelicula['vote_average'].values[0]\n",
    "    \n",
    "    # Obtener el título y el año de estreno de la película\n",
    "    titulo = pelicula['title'].values[0]\n",
    "    año_estreno = pelicula['release_year'].values[0]\n",
    "    \n",
    "    # Formato de la respuesta\n",
    "    \n",
    "    return {'titulo':titulo, 'anio':año_estreno, 'voto_total':votos, 'voto_promedio':promedio}"
   ]
  },
  {
   "cell_type": "code",
   "execution_count": 13,
   "metadata": {},
   "outputs": [
    {
     "data": {
      "text/plain": [
       "{'titulo': 'Toy Story',\n",
       " 'anio': 1995,\n",
       " 'voto_total': 5415.0,\n",
       " 'voto_promedio': 7.7}"
      ]
     },
     "execution_count": 13,
     "metadata": {},
     "output_type": "execute_result"
    }
   ],
   "source": [
    "votos_titulo(\"Toy Story\")"
   ]
  },
  {
   "cell_type": "code",
   "execution_count": 18,
   "metadata": {},
   "outputs": [],
   "source": [
    "def get_ids_cast(name):\n",
    "    ids = []\n",
    "    for cast_list in df['elenco']:\n",
    "        if name in cast_list:\n",
    "            ids.append(df.loc[df['elenco'] == cast_list, 'id'].to_list())\n",
    "\n",
    "    result = [num for sublist in ids for num in sublist]\n",
    "\n",
    "    return result"
   ]
  },
  {
   "cell_type": "code",
   "execution_count": 19,
   "metadata": {},
   "outputs": [],
   "source": [
    "def get_actor(name):\n",
    "    total_return=0\n",
    "    ids_films= get_ids_cast(name)\n",
    "\n",
    "    for id in ids_films:\n",
    "        if id in df['id'].values:\n",
    "            total_return += float(df.loc[df['id'] == id, 'return'])\n",
    "    \n",
    "    total_films=len(ids_films)\n",
    "    average_return=total_return/total_films\n",
    "    \n",
    "    return \"{} ha obtenido un retorno de {} gracias a su participación en {} películas, dando un promedio por films de {} \".format(name, total_return,total_films,average_return)"
   ]
  },
  {
   "cell_type": "code",
   "execution_count": 20,
   "metadata": {},
   "outputs": [
    {
     "data": {
      "text/plain": [
       "'Tom Hanks ha obtenido un retorno de 178.84949605520237 gracias a su participación en 71 películas, dando un promedio por films de 2.519006986692991 '"
      ]
     },
     "execution_count": 20,
     "metadata": {},
     "output_type": "execute_result"
    }
   ],
   "source": [
    "get_actor(\"Tom Hanks\")"
   ]
  },
  {
   "cell_type": "code",
   "execution_count": 50,
   "metadata": {},
   "outputs": [],
   "source": [
    "def get_actor2(nombre_actor: str):\n",
    "\n",
    "    # Filtrar las filas donde el actor está presente en la columna 'elenco'\n",
    "    filtro_actor = df['elenco'].str.contains(nombre_actor, case=False)\n",
    "    peliculas_actor = df[filtro_actor]\n",
    "\n",
    "    if len(peliculas_actor) > 0:\n",
    "        cantidad_films = len(peliculas_actor)\n",
    "        retorno_total = peliculas_actor['return'].sum()\n",
    "        promedio_retorno = retorno_total / cantidad_films\n",
    "\n",
    "        return {'actor':nombre_actor, 'cantidad_filmaciones':cantidad_films, 'retorno_total':retorno_total, 'retorno_promedio':promedio_retorno}\n",
    "    else:\n",
    "        return f\"No se encontraron registros para el actor {nombre_actor}.\"\n"
   ]
  },
  {
   "cell_type": "code",
   "execution_count": 51,
   "metadata": {},
   "outputs": [
    {
     "data": {
      "text/plain": [
       "{'actor': 'Tom Hanks',\n",
       " 'cantidad_filmaciones': 71,\n",
       " 'retorno_total': 178.8494960552024,\n",
       " 'retorno_promedio': 2.5190069866929914}"
      ]
     },
     "execution_count": 51,
     "metadata": {},
     "output_type": "execute_result"
    }
   ],
   "source": [
    "get_actor2(\"Tom Hanks\")"
   ]
  },
  {
   "cell_type": "code",
   "execution_count": 2,
   "metadata": {},
   "outputs": [],
   "source": [
    "def get_director(nombre_director:str):\n",
    "\n",
    "    # Filtramos las filas donde el director está presente en la columna 'director'\n",
    "    filtro_director = df['directores'].str.contains(nombre_director, case=False)\n",
    "    peliculas_director = df[filtro_director]\n",
    "    \n",
    "    if len(peliculas_director) > 0:\n",
    "        retorno_total_director = peliculas_director['return'].sum()\n",
    "        \n",
    "        peliculas = []\n",
    "        \n",
    "        for index, pelicula in peliculas_director.iterrows():\n",
    "            titulo = pelicula['title']\n",
    "            fecha_lanzamiento = pelicula['release_date']\n",
    "            retorno_pelicula = pelicula['return']\n",
    "            budget_pelicula = pelicula['budget']\n",
    "            revenue_pelicula = pelicula['revenue']\n",
    "            \n",
    "            peliculas.append({\n",
    "                'titulo': titulo,\n",
    "                'fecha_lanzamiento': fecha_lanzamiento,\n",
    "                'retorno_pelicula': retorno_pelicula,\n",
    "                'budget_pelicula': budget_pelicula,\n",
    "                'revenue_pelicula': revenue_pelicula\n",
    "            })\n",
    "        \n",
    "        return {\n",
    "            'director': nombre_director,\n",
    "            'retorno_total_director': retorno_total_director,\n",
    "            'peliculas': peliculas\n",
    "        }\n",
    "    else:\n",
    "        return f\"No se encontraron registros para el director {nombre_director}.\""
   ]
  },
  {
   "cell_type": "code",
   "execution_count": 3,
   "metadata": {},
   "outputs": [
    {
     "data": {
      "text/plain": [
       "{'director': 'Robin Williams',\n",
       " 'retorno_total_director': 17.6514478,\n",
       " 'peliculas': [{'titulo': 'Mrs. Doubtfire',\n",
       "   'fecha_lanzamiento': '1993-11-24',\n",
       "   'retorno_pelicula': 17.6514478,\n",
       "   'budget_pelicula': 25000000.0,\n",
       "   'revenue_pelicula': 441286195.0},\n",
       "  {'titulo': 'Robin Williams: Weapons of Self Destruction',\n",
       "   'fecha_lanzamiento': '2009-12-06',\n",
       "   'retorno_pelicula': 0.0,\n",
       "   'budget_pelicula': 0.0,\n",
       "   'revenue_pelicula': 0.0},\n",
       "  {'titulo': 'Robin Williams: A Night at the Met',\n",
       "   'fecha_lanzamiento': '1986-08-09',\n",
       "   'retorno_pelicula': 0.0,\n",
       "   'budget_pelicula': 0.0,\n",
       "   'revenue_pelicula': 0.0},\n",
       "  {'titulo': 'Robin Williams: Live on Broadway',\n",
       "   'fecha_lanzamiento': '2002-07-14',\n",
       "   'retorno_pelicula': 0.0,\n",
       "   'budget_pelicula': 0.0,\n",
       "   'revenue_pelicula': 0.0}]}"
      ]
     },
     "execution_count": 3,
     "metadata": {},
     "output_type": "execute_result"
    }
   ],
   "source": [
    "get_director(\"Robin Williams\")"
   ]
  },
  {
   "cell_type": "code",
   "execution_count": 12,
   "metadata": {},
   "outputs": [
    {
     "name": "stdout",
     "output_type": "stream",
     "text": [
      "Película seleccionada: Batman (7.0):\n",
      "\n",
      "Películas recomendadas:\n",
      "\n",
      "- The Lego Batman Movie  | Géneros: Action, Animation, Comedy, Family, Fantasy | Puntuación: 7.2 |\n",
      "- The Batman Superman Movie: World's Finest  | Géneros: Action, Animation | Puntuación: 7.1 |\n",
      "- Superman/Batman: Apocalypse  | Géneros: Action, Adventure, Animation | Puntuación: 7.0 |\n",
      "- Superman/Batman: Public Enemies  | Géneros: Animation, Action, Adventure | Puntuación: 6.7 |\n",
      "- Batman Returns  | Géneros: Action, Fantasy | Puntuación: 6.6 |\n"
     ]
    }
   ],
   "source": [
    "from sklearn.neighbors import NearestNeighbors\n",
    "import ast\n",
    "\n",
    "# Eliminar filas con valores NaN en columnas importantes\n",
    "df = df.dropna(subset=['overview', 'tagline', 'genre_names', 'title', 'id'])\n",
    "\n",
    "# Convertir la columna 'genre_names' de cadena a lista\n",
    "df['genre_names'] = df['genre_names'].apply(lambda x: ast.literal_eval(x) if isinstance(x, str) else x)\n",
    "\n",
    "# Crear dataframe de géneros utilizando one-hot encoding\n",
    "generos_df = df['genre_names'].str.get_dummies('|')\n",
    "\n",
    "# Definir título seleccionado\n",
    "selected_title = \"Batman\"\n",
    "\n",
    "# Obtener los géneros del título seleccionado\n",
    "selected_genres = df.loc[df['title'] == selected_title]['genre_names'].values[0]\n",
    "\n",
    "# Calcular la similitud de géneros entre los títulos y el título seleccionado\n",
    "df['genre_similarity'] = df['genre_names'].apply(lambda x: len(set(selected_genres) & set(x)) / len(set(selected_genres) | set(x)))\n",
    "\n",
    "# Crear columna 'same_series' para indicar si el título contiene 'Batman'\n",
    "df['same_series'] = df['title'].apply(lambda x: 1 if 'Batman' in x else 0)\n",
    "\n",
    "# Crear dataframe de características para el algoritmo de vecinos más cercanos\n",
    "features_df = pd.concat([generos_df, df['vote_average'], df['genre_similarity'], df['same_series']], axis=1)\n",
    "\n",
    "# Configurar el algoritmo de vecinos más cercanos\n",
    "k = 6\n",
    "knn = NearestNeighbors(n_neighbors=k+1, algorithm='auto')\n",
    "knn.fit(features_df)\n",
    "\n",
    "# Obtener los índices de los títulos recomendados\n",
    "indices = knn.kneighbors(features_df.loc[df['title'] == selected_title])[1].flatten()\n",
    "\n",
    "# Obtener los títulos recomendados y ordenarlos según criterios de puntuación y similitud de género\n",
    "recommended_movies = list(df.iloc[indices]['title'])\n",
    "selected_score = df.loc[df['title'] == selected_title]['vote_average'].values[0]\n",
    "recommended_movies = sorted(recommended_movies, key=lambda x: (df.loc[df['title'] == x]['same_series'].values[0], df.loc[df['title'] == x]['vote_average'].values[0], df.loc[df['title'] == x]['genre_similarity'].values[0]), reverse=True)\n",
    "recommended_movies = [movie for movie in recommended_movies if movie != selected_title]\n",
    "\n",
    "# Imprimir resultados\n",
    "print(f\"Película seleccionada: {selected_title} ({selected_score}):\\n\")\n",
    "print(\"Películas recomendadas:\\n\")\n",
    "for i, pelicula in enumerate(recommended_movies[:5]):\n",
    "    score = df.loc[df['title'] == pelicula]['vote_average'].values[0]\n",
    "    genres = df.loc[df['title'] == pelicula]['genre_names'].values[0]\n",
    "    gen_str = ', '.join(genres)\n",
    "\n",
    "    print(f\"- {pelicula}  | Géneros: {gen_str} | Puntuación: {score} |\")\n",
    "    if i == 4:\n",
    "        break\n",
    "\n"
   ]
  },
  {
   "cell_type": "code",
   "execution_count": 27,
   "metadata": {},
   "outputs": [],
   "source": [
    "from sklearn.neighbors import NearestNeighbors\n",
    "import ast\n",
    "\n",
    "def recomendacion(titulo: str):\n",
    "    df = pd.read_csv(r\"C:\\Users\\WINDOW 10\\Desktop\\Labs 2\\movie_dataset_clean.csv\")\n",
    "    '''\n",
    "    Recibe un título de película y retorna un diccionario con la lista recomendada de películas similares.\n",
    "    '''\n",
    "    # Eliminar filas con valores NaN en columnas importantes\n",
    "    df = df.dropna(subset=['overview', 'tagline', 'genre_names', 'title', 'id'])\n",
    "\n",
    "    # Convertir la columna 'genre_names' de cadena a lista\n",
    "    df['genre_names'] = df['genre_names'].apply(lambda x: ast.literal_eval(x) if isinstance(x, str) else x)\n",
    "\n",
    "    # Crear dataframe de géneros utilizando one-hot encoding\n",
    "    generos_df = df['genre_names'].str.get_dummies('|')\n",
    "\n",
    "    # Definir título seleccionado\n",
    "    selected_title = titulo\n",
    "\n",
    "    # Obtener los géneros del título seleccionado\n",
    "    selected_genres = df.loc[df['title'] == selected_title]['genre_names'].values[0]\n",
    "\n",
    "    # Calcular la similitud de géneros entre los títulos y el título seleccionado\n",
    "    df['genre_similarity'] = df['genre_names'].apply(lambda x: len(set(selected_genres) & set(x)) / len(set(selected_genres) | set(x)))\n",
    "\n",
    "    # Crear columna 'same_series' para indicar si el título contiene 'Batman'\n",
    "    df['same_series'] = df['title'].apply(lambda x: 1 if 'Batman' in x else 0)\n",
    "\n",
    "    # Crear dataframe de características para el algoritmo de vecinos más cercanos\n",
    "    features_df = pd.concat([generos_df, df['vote_average'], df['genre_similarity'], df['same_series']], axis=1)\n",
    "\n",
    "    # Configurar el algoritmo de vecinos más cercanos\n",
    "    k = 6\n",
    "    knn = NearestNeighbors(n_neighbors=k+1, algorithm='auto')\n",
    "    knn.fit(features_df)\n",
    "\n",
    "    # Obtener los índices de los títulos recomendados\n",
    "    indices = knn.kneighbors(features_df.loc[df['title'] == selected_title])[1].flatten()\n",
    "\n",
    "    # Obtener los títulos recomendados y ordenarlos según criterios de puntuación y similitud de género\n",
    "    recommended_movies = list(df.iloc[indices]['title'])\n",
    "    selected_score = df.loc[df['title'] == selected_title]['vote_average'].values[0]\n",
    "    recommended_movies = sorted(recommended_movies, key=lambda x: (df.loc[df['title'] == x]['same_series'].values[0], df.loc[df['title'] == x]['vote_average'].values[0], df.loc[df['title'] == x]['genre_similarity'].values[0]), reverse=True)\n",
    "    recommended_movies = [movie for movie in recommended_movies if movie != selected_title]\n",
    "\n",
    "    # Construir la respuesta\n",
    "    respuesta = {\n",
    "        'lista_recomendada': recommended_movies[:5]\n",
    "    }\n",
    "\n",
    "    return {'lista_recomendada': respuesta}\n"
   ]
  },
  {
   "cell_type": "code",
   "execution_count": 29,
   "metadata": {},
   "outputs": [
    {
     "data": {
      "text/plain": [
       "{'lista_recomendada': {'lista_recomendada': ['The Lego Batman Movie',\n",
       "   \"The Batman Superman Movie: World's Finest\",\n",
       "   'Superman/Batman: Apocalypse',\n",
       "   'Superman/Batman: Public Enemies',\n",
       "   'Batman Returns']}}"
      ]
     },
     "execution_count": 29,
     "metadata": {},
     "output_type": "execute_result"
    }
   ],
   "source": [
    "recomendacion(\"Batman\")"
   ]
  }
 ],
 "metadata": {
  "kernelspec": {
   "display_name": "Python 3",
   "language": "python",
   "name": "python3"
  },
  "language_info": {
   "codemirror_mode": {
    "name": "ipython",
    "version": 3
   },
   "file_extension": ".py",
   "mimetype": "text/x-python",
   "name": "python",
   "nbconvert_exporter": "python",
   "pygments_lexer": "ipython3",
   "version": "3.10.9"
  },
  "orig_nbformat": 4
 },
 "nbformat": 4,
 "nbformat_minor": 2
}
