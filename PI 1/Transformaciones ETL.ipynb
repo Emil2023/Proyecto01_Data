{
 "cells": [
  {
   "attachments": {},
   "cell_type": "markdown",
   "metadata": {},
   "source": [
    "# Tranformaciones ETL"
   ]
  },
  {
   "attachments": {},
   "cell_type": "markdown",
   "metadata": {},
   "source": [
    "Importamos las librerias"
   ]
  },
  {
   "cell_type": "code",
   "execution_count": 6,
   "metadata": {},
   "outputs": [],
   "source": [
    "import pandas as pd\n",
    "import numpy as np\n",
    "import json\n",
    "import ast"
   ]
  },
  {
   "attachments": {},
   "cell_type": "markdown",
   "metadata": {},
   "source": [
    "Cargamos los csv"
   ]
  },
  {
   "cell_type": "code",
   "execution_count": 10,
   "metadata": {},
   "outputs": [
    {
     "name": "stderr",
     "output_type": "stream",
     "text": [
      "C:\\Users\\WINDOW 10\\AppData\\Local\\Temp\\ipykernel_25372\\3302552323.py:1: DtypeWarning: Columns (10) have mixed types. Specify dtype option on import or set low_memory=False.\n",
      "  df=pd.read_csv(r\"C:\\Users\\WINDOW 10\\Desktop\\Labs 2\\Datasets\\movies_dataset.csv\")\n"
     ]
    }
   ],
   "source": [
    "df=pd.read_csv(r\"C:\\Users\\WINDOW 10\\Desktop\\Labs 2\\Datasets\\movies_dataset.csv\")\n",
    "df2 = pd.read_csv(r\"C:\\Users\\WINDOW 10\\Desktop\\Labs 2\\Datasets\\credits.csv\")"
   ]
  },
  {
   "cell_type": "code",
   "execution_count": 8,
   "metadata": {},
   "outputs": [
    {
     "data": {
      "text/html": [
       "<div>\n",
       "<style scoped>\n",
       "    .dataframe tbody tr th:only-of-type {\n",
       "        vertical-align: middle;\n",
       "    }\n",
       "\n",
       "    .dataframe tbody tr th {\n",
       "        vertical-align: top;\n",
       "    }\n",
       "\n",
       "    .dataframe thead th {\n",
       "        text-align: right;\n",
       "    }\n",
       "</style>\n",
       "<table border=\"1\" class=\"dataframe\">\n",
       "  <thead>\n",
       "    <tr style=\"text-align: right;\">\n",
       "      <th></th>\n",
       "      <th>adult</th>\n",
       "      <th>belongs_to_collection</th>\n",
       "      <th>budget</th>\n",
       "      <th>genres</th>\n",
       "      <th>homepage</th>\n",
       "      <th>id</th>\n",
       "      <th>imdb_id</th>\n",
       "      <th>original_language</th>\n",
       "      <th>original_title</th>\n",
       "      <th>overview</th>\n",
       "      <th>...</th>\n",
       "      <th>release_date</th>\n",
       "      <th>revenue</th>\n",
       "      <th>runtime</th>\n",
       "      <th>spoken_languages</th>\n",
       "      <th>status</th>\n",
       "      <th>tagline</th>\n",
       "      <th>title</th>\n",
       "      <th>video</th>\n",
       "      <th>vote_average</th>\n",
       "      <th>vote_count</th>\n",
       "    </tr>\n",
       "  </thead>\n",
       "  <tbody>\n",
       "    <tr>\n",
       "      <th>0</th>\n",
       "      <td>False</td>\n",
       "      <td>{'id': 10194, 'name': 'Toy Story Collection', ...</td>\n",
       "      <td>30000000</td>\n",
       "      <td>[{'id': 16, 'name': 'Animation'}, {'id': 35, '...</td>\n",
       "      <td>http://toystory.disney.com/toy-story</td>\n",
       "      <td>862</td>\n",
       "      <td>tt0114709</td>\n",
       "      <td>en</td>\n",
       "      <td>Toy Story</td>\n",
       "      <td>Led by Woody, Andy's toys live happily in his ...</td>\n",
       "      <td>...</td>\n",
       "      <td>1995-10-30</td>\n",
       "      <td>373554033.0</td>\n",
       "      <td>81.0</td>\n",
       "      <td>[{'iso_639_1': 'en', 'name': 'English'}]</td>\n",
       "      <td>Released</td>\n",
       "      <td>NaN</td>\n",
       "      <td>Toy Story</td>\n",
       "      <td>False</td>\n",
       "      <td>7.7</td>\n",
       "      <td>5415.0</td>\n",
       "    </tr>\n",
       "    <tr>\n",
       "      <th>1</th>\n",
       "      <td>False</td>\n",
       "      <td>NaN</td>\n",
       "      <td>65000000</td>\n",
       "      <td>[{'id': 12, 'name': 'Adventure'}, {'id': 14, '...</td>\n",
       "      <td>NaN</td>\n",
       "      <td>8844</td>\n",
       "      <td>tt0113497</td>\n",
       "      <td>en</td>\n",
       "      <td>Jumanji</td>\n",
       "      <td>When siblings Judy and Peter discover an encha...</td>\n",
       "      <td>...</td>\n",
       "      <td>1995-12-15</td>\n",
       "      <td>262797249.0</td>\n",
       "      <td>104.0</td>\n",
       "      <td>[{'iso_639_1': 'en', 'name': 'English'}, {'iso...</td>\n",
       "      <td>Released</td>\n",
       "      <td>Roll the dice and unleash the excitement!</td>\n",
       "      <td>Jumanji</td>\n",
       "      <td>False</td>\n",
       "      <td>6.9</td>\n",
       "      <td>2413.0</td>\n",
       "    </tr>\n",
       "    <tr>\n",
       "      <th>2</th>\n",
       "      <td>False</td>\n",
       "      <td>{'id': 119050, 'name': 'Grumpy Old Men Collect...</td>\n",
       "      <td>0</td>\n",
       "      <td>[{'id': 10749, 'name': 'Romance'}, {'id': 35, ...</td>\n",
       "      <td>NaN</td>\n",
       "      <td>15602</td>\n",
       "      <td>tt0113228</td>\n",
       "      <td>en</td>\n",
       "      <td>Grumpier Old Men</td>\n",
       "      <td>A family wedding reignites the ancient feud be...</td>\n",
       "      <td>...</td>\n",
       "      <td>1995-12-22</td>\n",
       "      <td>0.0</td>\n",
       "      <td>101.0</td>\n",
       "      <td>[{'iso_639_1': 'en', 'name': 'English'}]</td>\n",
       "      <td>Released</td>\n",
       "      <td>Still Yelling. Still Fighting. Still Ready for...</td>\n",
       "      <td>Grumpier Old Men</td>\n",
       "      <td>False</td>\n",
       "      <td>6.5</td>\n",
       "      <td>92.0</td>\n",
       "    </tr>\n",
       "    <tr>\n",
       "      <th>3</th>\n",
       "      <td>False</td>\n",
       "      <td>NaN</td>\n",
       "      <td>16000000</td>\n",
       "      <td>[{'id': 35, 'name': 'Comedy'}, {'id': 18, 'nam...</td>\n",
       "      <td>NaN</td>\n",
       "      <td>31357</td>\n",
       "      <td>tt0114885</td>\n",
       "      <td>en</td>\n",
       "      <td>Waiting to Exhale</td>\n",
       "      <td>Cheated on, mistreated and stepped on, the wom...</td>\n",
       "      <td>...</td>\n",
       "      <td>1995-12-22</td>\n",
       "      <td>81452156.0</td>\n",
       "      <td>127.0</td>\n",
       "      <td>[{'iso_639_1': 'en', 'name': 'English'}]</td>\n",
       "      <td>Released</td>\n",
       "      <td>Friends are the people who let you be yourself...</td>\n",
       "      <td>Waiting to Exhale</td>\n",
       "      <td>False</td>\n",
       "      <td>6.1</td>\n",
       "      <td>34.0</td>\n",
       "    </tr>\n",
       "    <tr>\n",
       "      <th>4</th>\n",
       "      <td>False</td>\n",
       "      <td>{'id': 96871, 'name': 'Father of the Bride Col...</td>\n",
       "      <td>0</td>\n",
       "      <td>[{'id': 35, 'name': 'Comedy'}]</td>\n",
       "      <td>NaN</td>\n",
       "      <td>11862</td>\n",
       "      <td>tt0113041</td>\n",
       "      <td>en</td>\n",
       "      <td>Father of the Bride Part II</td>\n",
       "      <td>Just when George Banks has recovered from his ...</td>\n",
       "      <td>...</td>\n",
       "      <td>1995-02-10</td>\n",
       "      <td>76578911.0</td>\n",
       "      <td>106.0</td>\n",
       "      <td>[{'iso_639_1': 'en', 'name': 'English'}]</td>\n",
       "      <td>Released</td>\n",
       "      <td>Just When His World Is Back To Normal... He's ...</td>\n",
       "      <td>Father of the Bride Part II</td>\n",
       "      <td>False</td>\n",
       "      <td>5.7</td>\n",
       "      <td>173.0</td>\n",
       "    </tr>\n",
       "  </tbody>\n",
       "</table>\n",
       "<p>5 rows × 24 columns</p>\n",
       "</div>"
      ],
      "text/plain": [
       "   adult                              belongs_to_collection    budget  \\\n",
       "0  False  {'id': 10194, 'name': 'Toy Story Collection', ...  30000000   \n",
       "1  False                                                NaN  65000000   \n",
       "2  False  {'id': 119050, 'name': 'Grumpy Old Men Collect...         0   \n",
       "3  False                                                NaN  16000000   \n",
       "4  False  {'id': 96871, 'name': 'Father of the Bride Col...         0   \n",
       "\n",
       "                                              genres  \\\n",
       "0  [{'id': 16, 'name': 'Animation'}, {'id': 35, '...   \n",
       "1  [{'id': 12, 'name': 'Adventure'}, {'id': 14, '...   \n",
       "2  [{'id': 10749, 'name': 'Romance'}, {'id': 35, ...   \n",
       "3  [{'id': 35, 'name': 'Comedy'}, {'id': 18, 'nam...   \n",
       "4                     [{'id': 35, 'name': 'Comedy'}]   \n",
       "\n",
       "                               homepage     id    imdb_id original_language  \\\n",
       "0  http://toystory.disney.com/toy-story    862  tt0114709                en   \n",
       "1                                   NaN   8844  tt0113497                en   \n",
       "2                                   NaN  15602  tt0113228                en   \n",
       "3                                   NaN  31357  tt0114885                en   \n",
       "4                                   NaN  11862  tt0113041                en   \n",
       "\n",
       "                original_title  \\\n",
       "0                    Toy Story   \n",
       "1                      Jumanji   \n",
       "2             Grumpier Old Men   \n",
       "3            Waiting to Exhale   \n",
       "4  Father of the Bride Part II   \n",
       "\n",
       "                                            overview  ... release_date  \\\n",
       "0  Led by Woody, Andy's toys live happily in his ...  ...   1995-10-30   \n",
       "1  When siblings Judy and Peter discover an encha...  ...   1995-12-15   \n",
       "2  A family wedding reignites the ancient feud be...  ...   1995-12-22   \n",
       "3  Cheated on, mistreated and stepped on, the wom...  ...   1995-12-22   \n",
       "4  Just when George Banks has recovered from his ...  ...   1995-02-10   \n",
       "\n",
       "       revenue runtime                                   spoken_languages  \\\n",
       "0  373554033.0    81.0           [{'iso_639_1': 'en', 'name': 'English'}]   \n",
       "1  262797249.0   104.0  [{'iso_639_1': 'en', 'name': 'English'}, {'iso...   \n",
       "2          0.0   101.0           [{'iso_639_1': 'en', 'name': 'English'}]   \n",
       "3   81452156.0   127.0           [{'iso_639_1': 'en', 'name': 'English'}]   \n",
       "4   76578911.0   106.0           [{'iso_639_1': 'en', 'name': 'English'}]   \n",
       "\n",
       "     status                                            tagline  \\\n",
       "0  Released                                                NaN   \n",
       "1  Released          Roll the dice and unleash the excitement!   \n",
       "2  Released  Still Yelling. Still Fighting. Still Ready for...   \n",
       "3  Released  Friends are the people who let you be yourself...   \n",
       "4  Released  Just When His World Is Back To Normal... He's ...   \n",
       "\n",
       "                         title  video vote_average vote_count  \n",
       "0                    Toy Story  False          7.7     5415.0  \n",
       "1                      Jumanji  False          6.9     2413.0  \n",
       "2             Grumpier Old Men  False          6.5       92.0  \n",
       "3            Waiting to Exhale  False          6.1       34.0  \n",
       "4  Father of the Bride Part II  False          5.7      173.0  \n",
       "\n",
       "[5 rows x 24 columns]"
      ]
     },
     "execution_count": 8,
     "metadata": {},
     "output_type": "execute_result"
    }
   ],
   "source": [
    "#verifico que cargo correctamente\n",
    "df.head()"
   ]
  },
  {
   "cell_type": "code",
   "execution_count": 11,
   "metadata": {},
   "outputs": [
    {
     "name": "stderr",
     "output_type": "stream",
     "text": [
      "C:\\Users\\WINDOW 10\\AppData\\Local\\Temp\\ipykernel_25372\\927150050.py:16: SettingWithCopyWarning: \n",
      "A value is trying to be set on a copy of a slice from a DataFrame\n",
      "\n",
      "See the caveats in the documentation: https://pandas.pydata.org/pandas-docs/stable/user_guide/indexing.html#returning-a-view-versus-a-copy\n",
      "  df.drop_duplicates(subset='id', inplace=True)\n"
     ]
    }
   ],
   "source": [
    "def merge_movies_and_credits(df, df2):\n",
    "    '''\n",
    "    La función devuelve el DataFrame resultado de unir movies y credits. Para ello elimina los id's que no están en\n",
    "    el formato adecuado (número entero), elimina los id's duplicados y finalmente los convierte a enteros de 64 bits.\n",
    "    '''\n",
    "    \n",
    "    # Convierte los id's de cada DataFrame a entero y si no se puede lo etiqueta con NaN\n",
    "    df['id'] = pd.to_numeric(df['id'], errors='coerce')\n",
    "    df2['id'] = pd.to_numeric(df2['id'], errors='coerce')\n",
    "    \n",
    "    # Dropea los registros que son NaN\n",
    "    df = df.dropna(subset=['id'])\n",
    "    df2 = df2.dropna(subset=['id'])\n",
    "    \n",
    "    # Dropea los registros duplicados\n",
    "    df.drop_duplicates(subset='id', inplace=True)\n",
    "    df2.drop_duplicates(subset='id', inplace=True) \n",
    "\n",
    "    # Juntar los DataFrames utilizando el campo \"id\"\n",
    "    merged_data = pd.merge(df, df2, on='id')\n",
    "    \n",
    "    # Eliminar los registros que no tienen título \n",
    "    merged_data = merged_data.dropna(subset=['title'])\n",
    "    \n",
    "    # Restablecer el índice\n",
    "    merged_data = merged_data.reset_index(drop=True)\n",
    "    \n",
    "    return merged_data\n",
    "\n",
    "\n",
    "df = merge_movies_and_credits(df, df2)"
   ]
  },
  {
   "cell_type": "code",
   "execution_count": 12,
   "metadata": {},
   "outputs": [],
   "source": [
    "#Elimino las columnas que no se utilizara\n",
    "df.drop(columns=['video','imdb_id','adult','original_title','poster_path','homepage'], inplace=True)"
   ]
  },
  {
   "cell_type": "code",
   "execution_count": 13,
   "metadata": {},
   "outputs": [],
   "source": [
    "#Los valores nulos de los campos revenue, budget deben ser rellenados por el número 0\n",
    "df['revenue']=df['revenue'].fillna(0)\n",
    "df['budget']=df['budget'].fillna(0)"
   ]
  },
  {
   "cell_type": "code",
   "execution_count": 14,
   "metadata": {},
   "outputs": [],
   "source": [
    "#Convertimos revenue y budget a float \n",
    "df['revenue'] = df['revenue'].replace('[^\\d.]', '', regex=True).astype(float)\n",
    "df['budget'] = df['budget'].replace('[^\\d.]', '', regex=True).astype(float)"
   ]
  },
  {
   "cell_type": "code",
   "execution_count": 15,
   "metadata": {},
   "outputs": [],
   "source": [
    "#crear la columna return para calcular la ganacia\n",
    "df['return'] = df.apply(lambda row: 0 if row['budget'] == 0 else row['revenue']/row['budget'], axis=1)"
   ]
  },
  {
   "cell_type": "code",
   "execution_count": 16,
   "metadata": {},
   "outputs": [],
   "source": [
    "df=df.dropna(subset=['release_date'])"
   ]
  },
  {
   "attachments": {},
   "cell_type": "markdown",
   "metadata": {},
   "source": [
    "De haber fechas, deberán tener el formato AAAA-mm-dd"
   ]
  },
  {
   "cell_type": "code",
   "execution_count": 17,
   "metadata": {},
   "outputs": [],
   "source": [
    "df['release_date']=pd.to_datetime(df['release_date'],format='%Y-%m-%d',errors='coerce')"
   ]
  },
  {
   "cell_type": "code",
   "execution_count": 18,
   "metadata": {},
   "outputs": [
    {
     "data": {
      "text/plain": [
       "0"
      ]
     },
     "execution_count": 18,
     "metadata": {},
     "output_type": "execute_result"
    }
   ],
   "source": [
    "df['release_date'].isna().sum()"
   ]
  },
  {
   "cell_type": "code",
   "execution_count": 19,
   "metadata": {},
   "outputs": [
    {
     "data": {
      "text/html": [
       "<div>\n",
       "<style scoped>\n",
       "    .dataframe tbody tr th:only-of-type {\n",
       "        vertical-align: middle;\n",
       "    }\n",
       "\n",
       "    .dataframe tbody tr th {\n",
       "        vertical-align: top;\n",
       "    }\n",
       "\n",
       "    .dataframe thead th {\n",
       "        text-align: right;\n",
       "    }\n",
       "</style>\n",
       "<table border=\"1\" class=\"dataframe\">\n",
       "  <thead>\n",
       "    <tr style=\"text-align: right;\">\n",
       "      <th></th>\n",
       "      <th>belongs_to_collection</th>\n",
       "      <th>budget</th>\n",
       "      <th>genres</th>\n",
       "      <th>id</th>\n",
       "      <th>original_language</th>\n",
       "      <th>overview</th>\n",
       "      <th>popularity</th>\n",
       "      <th>production_companies</th>\n",
       "      <th>production_countries</th>\n",
       "      <th>release_date</th>\n",
       "      <th>...</th>\n",
       "      <th>runtime</th>\n",
       "      <th>spoken_languages</th>\n",
       "      <th>status</th>\n",
       "      <th>tagline</th>\n",
       "      <th>title</th>\n",
       "      <th>vote_average</th>\n",
       "      <th>vote_count</th>\n",
       "      <th>cast</th>\n",
       "      <th>crew</th>\n",
       "      <th>return</th>\n",
       "    </tr>\n",
       "  </thead>\n",
       "  <tbody>\n",
       "  </tbody>\n",
       "</table>\n",
       "<p>0 rows × 21 columns</p>\n",
       "</div>"
      ],
      "text/plain": [
       "Empty DataFrame\n",
       "Columns: [belongs_to_collection, budget, genres, id, original_language, overview, popularity, production_companies, production_countries, release_date, revenue, runtime, spoken_languages, status, tagline, title, vote_average, vote_count, cast, crew, return]\n",
       "Index: []\n",
       "\n",
       "[0 rows x 21 columns]"
      ]
     },
     "execution_count": 19,
     "metadata": {},
     "output_type": "execute_result"
    }
   ],
   "source": [
    "df[df['release_date'].isna()]"
   ]
  },
  {
   "cell_type": "code",
   "execution_count": 20,
   "metadata": {},
   "outputs": [],
   "source": [
    "#Dropeamos los valores nulos\n",
    "df=df.dropna(subset=['release_date'])"
   ]
  },
  {
   "attachments": {},
   "cell_type": "markdown",
   "metadata": {},
   "source": [
    "Creamos la columna release_year donde se extraera el año de la fecha de estreno."
   ]
  },
  {
   "cell_type": "code",
   "execution_count": 21,
   "metadata": {},
   "outputs": [],
   "source": [
    "df['release_year']=df['release_date'].dt.year"
   ]
  },
  {
   "cell_type": "code",
   "execution_count": 22,
   "metadata": {},
   "outputs": [
    {
     "data": {
      "text/plain": [
       "0    1995\n",
       "1    1995\n",
       "2    1995\n",
       "3    1995\n",
       "4    1995\n",
       "5    1995\n",
       "6    1995\n",
       "7    1995\n",
       "8    1995\n",
       "9    1995\n",
       "Name: release_year, dtype: int64"
      ]
     },
     "execution_count": 22,
     "metadata": {},
     "output_type": "execute_result"
    }
   ],
   "source": [
    "df['release_year'] = pd.DatetimeIndex(df['release_date']).year\n",
    "df['release_year'].head(10)"
   ]
  },
  {
   "cell_type": "code",
   "execution_count": 23,
   "metadata": {},
   "outputs": [
    {
     "name": "stdout",
     "output_type": "stream",
     "text": [
      "<class 'pandas.core.frame.DataFrame'>\n",
      "Int64Index: 45345 entries, 0 to 45428\n",
      "Data columns (total 22 columns):\n",
      " #   Column                 Non-Null Count  Dtype         \n",
      "---  ------                 --------------  -----         \n",
      " 0   belongs_to_collection  4485 non-null   object        \n",
      " 1   budget                 45345 non-null  float64       \n",
      " 2   genres                 45345 non-null  object        \n",
      " 3   id                     45345 non-null  float64       \n",
      " 4   original_language      45334 non-null  object        \n",
      " 5   overview               44404 non-null  object        \n",
      " 6   popularity             45345 non-null  object        \n",
      " 7   production_companies   45345 non-null  object        \n",
      " 8   production_countries   45345 non-null  object        \n",
      " 9   release_date           45345 non-null  datetime64[ns]\n",
      " 10  revenue                45345 non-null  float64       \n",
      " 11  runtime                45099 non-null  float64       \n",
      " 12  spoken_languages       45345 non-null  object        \n",
      " 13  status                 45265 non-null  object        \n",
      " 14  tagline                20387 non-null  object        \n",
      " 15  title                  45345 non-null  object        \n",
      " 16  vote_average           45345 non-null  float64       \n",
      " 17  vote_count             45345 non-null  float64       \n",
      " 18  cast                   45345 non-null  object        \n",
      " 19  crew                   45345 non-null  object        \n",
      " 20  return                 45345 non-null  float64       \n",
      " 21  release_year           45345 non-null  int64         \n",
      "dtypes: datetime64[ns](1), float64(7), int64(1), object(13)\n",
      "memory usage: 8.0+ MB\n"
     ]
    }
   ],
   "source": [
    "#Verificamos nuestro DataFrame\n",
    "df.info()"
   ]
  },
  {
   "attachments": {},
   "cell_type": "markdown",
   "metadata": {},
   "source": [
    "Algunos campos, como belongs_to_collection, production_companies Y genres están anidados "
   ]
  },
  {
   "cell_type": "code",
   "execution_count": 24,
   "metadata": {},
   "outputs": [],
   "source": [
    "#Importamos JSON\n",
    "import json"
   ]
  },
  {
   "cell_type": "code",
   "execution_count": 25,
   "metadata": {},
   "outputs": [],
   "source": [
    "def new_name(x):\n",
    "    try:\n",
    "        return json.loads(x.replace(\"'\", \"\\\"\"))\n",
    "    except (json.JSONDecodeError, AttributeError):\n",
    "        return {}\n",
    "\n",
    "df[\"belongs_to_collection\"] = df[\"belongs_to_collection\"].apply(new_name)\n",
    "df[\"collection_id\"] = df[\"belongs_to_collection\"].apply(lambda x: x[\"id\"] if isinstance(x, dict) and \"id\" in x else None)\n",
    "df[\"collection_name\"] = df[\"belongs_to_collection\"].apply(lambda x: x[\"name\"] if isinstance(x, dict) and \"name\" in x else None)\n",
    "df[\"collection_poster\"] = df[\"belongs_to_collection\"].apply(lambda x: x[\"poster_path\"] if isinstance(x, dict) and \"poster_path\" in x else None)\n",
    "df[\"collection_backdrop\"] = df[\"belongs_to_collection\"].apply(lambda x: x[\"backdrop_path\"] if isinstance(x, dict) and \"backdrop_path\" in x else None)\n",
    "df.drop(['belongs_to_collection'],axis=1,inplace=True)"
   ]
  },
  {
   "attachments": {},
   "cell_type": "markdown",
   "metadata": {},
   "source": [
    "Creamos la misma Funcion para belongs_to_collection, production_companies"
   ]
  },
  {
   "cell_type": "code",
   "execution_count": 26,
   "metadata": {},
   "outputs": [],
   "source": [
    "def new_name(json_string):\n",
    "    try:\n",
    "        return json.loads(json_string.replace(\"'\", \"\\\"\"))\n",
    "    except:\n",
    "        return {}"
   ]
  },
  {
   "cell_type": "code",
   "execution_count": 27,
   "metadata": {},
   "outputs": [
    {
     "data": {
      "text/plain": [
       "0           [Animation, Comedy, Family]\n",
       "1          [Adventure, Fantasy, Family]\n",
       "2                     [Romance, Comedy]\n",
       "3              [Comedy, Drama, Romance]\n",
       "4                              [Comedy]\n",
       "5      [Action, Crime, Drama, Thriller]\n",
       "6                     [Comedy, Romance]\n",
       "7    [Action, Adventure, Drama, Family]\n",
       "8         [Action, Adventure, Thriller]\n",
       "9         [Adventure, Action, Thriller]\n",
       "Name: genre_names, dtype: object"
      ]
     },
     "execution_count": 27,
     "metadata": {},
     "output_type": "execute_result"
    }
   ],
   "source": [
    "# Aplicar la función a la columna \"genres\"\n",
    "df[\"genres\"] = df[\"genres\"].apply(new_name)\n",
    "df[\"genre_ids\"] = df[\"genres\"].apply(lambda x: [d.get(\"id\") for d in x])\n",
    "df[\"genre_names\"] = df[\"genres\"].apply(lambda x: [d.get(\"name\") for d in x])\n",
    "df[\"genre_names\"].head(10)"
   ]
  },
  {
   "cell_type": "code",
   "execution_count": 28,
   "metadata": {},
   "outputs": [],
   "source": [
    "df[\"production_companies\"] = df[\"production_companies\"].apply(new_name)\n",
    "df[\"production_companies_ids\"] = df[\"production_companies\"].apply(lambda x: [d.get(\"id\") for d in x])\n",
    "df[\"production_companies_names\"] = df[\"production_companies\"].apply(lambda x: [d.get(\"name\") for d in x])"
   ]
  },
  {
   "cell_type": "code",
   "execution_count": 29,
   "metadata": {},
   "outputs": [],
   "source": [
    "# Aplicamos la funcion a 'production_countries'\n",
    "df[\"country\"] = df[\"production_countries\"].apply(lambda x: new_name(x))\n",
    "df[\"country\"] = df[\"country\"].apply(lambda x: x[0][\"name\"] if isinstance(x, list) and len(x) > 0 else None)"
   ]
  },
  {
   "cell_type": "code",
   "execution_count": 30,
   "metadata": {},
   "outputs": [],
   "source": [
    "#Aplicamos la funcion a Spoken Lenguages\n",
    "df[\"spoken_languages\"] = df[\"spoken_languages\"].apply(lambda x: new_name(x))\n",
    "df[\"spoken_languages\"] = df[\"spoken_languages\"].apply(lambda x: x[0][\"name\"] if isinstance(x, list) and len(x) > 0 else None)\n"
   ]
  },
  {
   "cell_type": "code",
   "execution_count": 31,
   "metadata": {},
   "outputs": [],
   "source": [
    "#Borramos los NUll de las siguientes columnas\n",
    "\n",
    "df.drop(['genres','production_companies','production_countries'],axis=1,inplace=True)"
   ]
  },
  {
   "cell_type": "code",
   "execution_count": 32,
   "metadata": {},
   "outputs": [],
   "source": [
    "#Los valores nulos del campo release date deben eliminarse.\n",
    "df.dropna(subset=['release_date'],inplace=True)"
   ]
  },
  {
   "cell_type": "code",
   "execution_count": 33,
   "metadata": {},
   "outputs": [
    {
     "name": "stdout",
     "output_type": "stream",
     "text": [
      "<class 'pandas.core.frame.DataFrame'>\n",
      "Int64Index: 45345 entries, 0 to 45428\n",
      "Data columns (total 27 columns):\n",
      " #   Column                      Non-Null Count  Dtype         \n",
      "---  ------                      --------------  -----         \n",
      " 0   budget                      45345 non-null  float64       \n",
      " 1   id                          45345 non-null  float64       \n",
      " 2   original_language           45334 non-null  object        \n",
      " 3   overview                    44404 non-null  object        \n",
      " 4   popularity                  45345 non-null  object        \n",
      " 5   release_date                45345 non-null  datetime64[ns]\n",
      " 6   revenue                     45345 non-null  float64       \n",
      " 7   runtime                     45099 non-null  float64       \n",
      " 8   spoken_languages            41554 non-null  object        \n",
      " 9   status                      45265 non-null  object        \n",
      " 10  tagline                     20387 non-null  object        \n",
      " 11  title                       45345 non-null  object        \n",
      " 12  vote_average                45345 non-null  float64       \n",
      " 13  vote_count                  45345 non-null  float64       \n",
      " 14  cast                        45345 non-null  object        \n",
      " 15  crew                        45345 non-null  object        \n",
      " 16  return                      45345 non-null  float64       \n",
      " 17  release_year                45345 non-null  int64         \n",
      " 18  collection_id               3163 non-null   float64       \n",
      " 19  collection_name             3163 non-null   object        \n",
      " 20  collection_poster           3163 non-null   object        \n",
      " 21  collection_backdrop         3163 non-null   object        \n",
      " 22  genre_ids                   45345 non-null  object        \n",
      " 23  genre_names                 45345 non-null  object        \n",
      " 24  production_companies_ids    45345 non-null  object        \n",
      " 25  production_companies_names  45345 non-null  object        \n",
      " 26  country                     39133 non-null  object        \n",
      "dtypes: datetime64[ns](1), float64(8), int64(1), object(17)\n",
      "memory usage: 9.7+ MB\n"
     ]
    }
   ],
   "source": [
    "df.info()"
   ]
  },
  {
   "cell_type": "code",
   "execution_count": 34,
   "metadata": {},
   "outputs": [
    {
     "data": {
      "text/plain": [
       "0    10\n",
       "1    12\n",
       "2    12\n",
       "3    12\n",
       "4     2\n",
       "5    12\n",
       "6    12\n",
       "7    12\n",
       "8    12\n",
       "9    11\n",
       "Name: release_month, dtype: int64"
      ]
     },
     "execution_count": 34,
     "metadata": {},
     "output_type": "execute_result"
    }
   ],
   "source": [
    "#Creamos la columna release_month\n",
    "df['release_month'] = pd.DatetimeIndex(df['release_date']).month\n",
    "df['release_month'].head(10)"
   ]
  },
  {
   "cell_type": "code",
   "execution_count": 35,
   "metadata": {},
   "outputs": [],
   "source": [
    "#convertir la columna release_date a datetime\n",
    "df['release_date'] = pd.to_datetime(df['release_date'])"
   ]
  },
  {
   "cell_type": "code",
   "execution_count": 36,
   "metadata": {},
   "outputs": [],
   "source": [
    "#Pasamos el Release_year a str\n",
    "df['release_year'] = df['release_year'].astype(str)"
   ]
  },
  {
   "attachments": {},
   "cell_type": "markdown",
   "metadata": {},
   "source": [
    "Realizamos la conversion del dataframe credits"
   ]
  },
  {
   "cell_type": "code",
   "execution_count": 37,
   "metadata": {},
   "outputs": [],
   "source": [
    "import pandas as pd\n",
    "\n",
    "# Reemplazamos NaN por una lista compuesta por un diccionario vacío\n",
    "df['cast'] = df['cast'].apply(lambda x: [] if pd.isna(x) else x)\n",
    "\n",
    "# Utilizamos una función personalizada que verifique si el valor es una cadena y \n",
    "# luego intente convertirla en una lista para finalmente extraer los nombres del cast\n",
    "\n",
    "def extract_cast_names(value):\n",
    "    if isinstance(value, str):\n",
    "        try:\n",
    "            cast_list = ast.literal_eval(value)\n",
    "            return [d.get('name') for d in cast_list]\n",
    "        except (ValueError, SyntaxError):\n",
    "            return None\n",
    "    elif isinstance(value, list):\n",
    "        return [d.get('name') for d in value]\n",
    "    else:\n",
    "        return None\n",
    "\n",
    "#Creamos la columna \"cast_names\" compuesta por los valores de la clave\n",
    "#\"name\" de los diccionarios de las listas de la columna \"cast\"\n",
    "\n",
    "df['elenco'] = df['cast'].apply(extract_cast_names)\n",
    "\n",
    "#Reemplazamos las listas vacías por None\n",
    "df['elenco'] = df['elenco'].replace([], None)\n",
    "\n",
    "#Eliminamos la columna \"cast\" original\n",
    "df = df.drop('cast', axis=1)"
   ]
  },
  {
   "cell_type": "code",
   "execution_count": 38,
   "metadata": {},
   "outputs": [
    {
     "data": {
      "text/html": [
       "<div>\n",
       "<style scoped>\n",
       "    .dataframe tbody tr th:only-of-type {\n",
       "        vertical-align: middle;\n",
       "    }\n",
       "\n",
       "    .dataframe tbody tr th {\n",
       "        vertical-align: top;\n",
       "    }\n",
       "\n",
       "    .dataframe thead th {\n",
       "        text-align: right;\n",
       "    }\n",
       "</style>\n",
       "<table border=\"1\" class=\"dataframe\">\n",
       "  <thead>\n",
       "    <tr style=\"text-align: right;\">\n",
       "      <th></th>\n",
       "      <th>budget</th>\n",
       "      <th>id</th>\n",
       "      <th>original_language</th>\n",
       "      <th>overview</th>\n",
       "      <th>popularity</th>\n",
       "      <th>release_date</th>\n",
       "      <th>revenue</th>\n",
       "      <th>runtime</th>\n",
       "      <th>spoken_languages</th>\n",
       "      <th>status</th>\n",
       "      <th>...</th>\n",
       "      <th>collection_poster</th>\n",
       "      <th>collection_backdrop</th>\n",
       "      <th>genre_ids</th>\n",
       "      <th>genre_names</th>\n",
       "      <th>production_companies_ids</th>\n",
       "      <th>production_companies_names</th>\n",
       "      <th>country</th>\n",
       "      <th>release_month</th>\n",
       "      <th>elenco</th>\n",
       "      <th>directores</th>\n",
       "    </tr>\n",
       "  </thead>\n",
       "  <tbody>\n",
       "    <tr>\n",
       "      <th>0</th>\n",
       "      <td>30000000.0</td>\n",
       "      <td>862.0</td>\n",
       "      <td>en</td>\n",
       "      <td>Led by Woody, Andy's toys live happily in his ...</td>\n",
       "      <td>21.946943</td>\n",
       "      <td>1995-10-30</td>\n",
       "      <td>373554033.0</td>\n",
       "      <td>81.0</td>\n",
       "      <td>English</td>\n",
       "      <td>Released</td>\n",
       "      <td>...</td>\n",
       "      <td>/7G9915LfUQ2lVfwMEEhDsn3kT4B.jpg</td>\n",
       "      <td>/9FBwqcd9IRruEDUrTdcaafOMKUq.jpg</td>\n",
       "      <td>[16, 35, 10751]</td>\n",
       "      <td>[Animation, Comedy, Family]</td>\n",
       "      <td>[3]</td>\n",
       "      <td>[Pixar Animation Studios]</td>\n",
       "      <td>United States of America</td>\n",
       "      <td>10</td>\n",
       "      <td>[Tom Hanks, Tim Allen, Don Rickles, Jim Varney...</td>\n",
       "      <td>[John Lasseter, Joss Whedon, Andrew Stanton, J...</td>\n",
       "    </tr>\n",
       "    <tr>\n",
       "      <th>1</th>\n",
       "      <td>65000000.0</td>\n",
       "      <td>8844.0</td>\n",
       "      <td>en</td>\n",
       "      <td>When siblings Judy and Peter discover an encha...</td>\n",
       "      <td>17.015539</td>\n",
       "      <td>1995-12-15</td>\n",
       "      <td>262797249.0</td>\n",
       "      <td>104.0</td>\n",
       "      <td>English</td>\n",
       "      <td>Released</td>\n",
       "      <td>...</td>\n",
       "      <td>None</td>\n",
       "      <td>None</td>\n",
       "      <td>[12, 14, 10751]</td>\n",
       "      <td>[Adventure, Fantasy, Family]</td>\n",
       "      <td>[559, 2550, 10201]</td>\n",
       "      <td>[TriStar Pictures, Teitler Film, Interscope Co...</td>\n",
       "      <td>United States of America</td>\n",
       "      <td>12</td>\n",
       "      <td>[Robin Williams, Jonathan Hyde, Kirsten Dunst,...</td>\n",
       "      <td>[Larry J. Franco, Jonathan Hensleigh, James Ho...</td>\n",
       "    </tr>\n",
       "    <tr>\n",
       "      <th>2</th>\n",
       "      <td>0.0</td>\n",
       "      <td>15602.0</td>\n",
       "      <td>en</td>\n",
       "      <td>A family wedding reignites the ancient feud be...</td>\n",
       "      <td>11.7129</td>\n",
       "      <td>1995-12-22</td>\n",
       "      <td>0.0</td>\n",
       "      <td>101.0</td>\n",
       "      <td>English</td>\n",
       "      <td>Released</td>\n",
       "      <td>...</td>\n",
       "      <td>/nLvUdqgPgm3F85NMCii9gVFUcet.jpg</td>\n",
       "      <td>/hypTnLot2z8wpFS7qwsQHW1uV8u.jpg</td>\n",
       "      <td>[10749, 35]</td>\n",
       "      <td>[Romance, Comedy]</td>\n",
       "      <td>[6194, 19464]</td>\n",
       "      <td>[Warner Bros., Lancaster Gate]</td>\n",
       "      <td>United States of America</td>\n",
       "      <td>12</td>\n",
       "      <td>[Walter Matthau, Jack Lemmon, Ann-Margret, Sop...</td>\n",
       "      <td>[Howard Deutch, Mark Steven Johnson, Mark Stev...</td>\n",
       "    </tr>\n",
       "    <tr>\n",
       "      <th>3</th>\n",
       "      <td>16000000.0</td>\n",
       "      <td>31357.0</td>\n",
       "      <td>en</td>\n",
       "      <td>Cheated on, mistreated and stepped on, the wom...</td>\n",
       "      <td>3.859495</td>\n",
       "      <td>1995-12-22</td>\n",
       "      <td>81452156.0</td>\n",
       "      <td>127.0</td>\n",
       "      <td>English</td>\n",
       "      <td>Released</td>\n",
       "      <td>...</td>\n",
       "      <td>None</td>\n",
       "      <td>None</td>\n",
       "      <td>[35, 18, 10749]</td>\n",
       "      <td>[Comedy, Drama, Romance]</td>\n",
       "      <td>[306]</td>\n",
       "      <td>[Twentieth Century Fox Film Corporation]</td>\n",
       "      <td>United States of America</td>\n",
       "      <td>12</td>\n",
       "      <td>[Whitney Houston, Angela Bassett, Loretta Devi...</td>\n",
       "      <td>[Forest Whitaker, Ronald Bass, Ronald Bass, Ez...</td>\n",
       "    </tr>\n",
       "    <tr>\n",
       "      <th>4</th>\n",
       "      <td>0.0</td>\n",
       "      <td>11862.0</td>\n",
       "      <td>en</td>\n",
       "      <td>Just when George Banks has recovered from his ...</td>\n",
       "      <td>8.387519</td>\n",
       "      <td>1995-02-10</td>\n",
       "      <td>76578911.0</td>\n",
       "      <td>106.0</td>\n",
       "      <td>English</td>\n",
       "      <td>Released</td>\n",
       "      <td>...</td>\n",
       "      <td>/nts4iOmNnq7GNicycMJ9pSAn204.jpg</td>\n",
       "      <td>/7qwE57OVZmMJChBpLEbJEmzUydk.jpg</td>\n",
       "      <td>[35]</td>\n",
       "      <td>[Comedy]</td>\n",
       "      <td>[5842, 9195]</td>\n",
       "      <td>[Sandollar Productions, Touchstone Pictures]</td>\n",
       "      <td>United States of America</td>\n",
       "      <td>2</td>\n",
       "      <td>[Steve Martin, Diane Keaton, Martin Short, Kim...</td>\n",
       "      <td>[Alan Silvestri, Elliot Davis, Nancy Meyers, N...</td>\n",
       "    </tr>\n",
       "  </tbody>\n",
       "</table>\n",
       "<p>5 rows × 28 columns</p>\n",
       "</div>"
      ],
      "text/plain": [
       "       budget       id original_language  \\\n",
       "0  30000000.0    862.0                en   \n",
       "1  65000000.0   8844.0                en   \n",
       "2         0.0  15602.0                en   \n",
       "3  16000000.0  31357.0                en   \n",
       "4         0.0  11862.0                en   \n",
       "\n",
       "                                            overview popularity release_date  \\\n",
       "0  Led by Woody, Andy's toys live happily in his ...  21.946943   1995-10-30   \n",
       "1  When siblings Judy and Peter discover an encha...  17.015539   1995-12-15   \n",
       "2  A family wedding reignites the ancient feud be...    11.7129   1995-12-22   \n",
       "3  Cheated on, mistreated and stepped on, the wom...   3.859495   1995-12-22   \n",
       "4  Just when George Banks has recovered from his ...   8.387519   1995-02-10   \n",
       "\n",
       "       revenue  runtime spoken_languages    status  ...  \\\n",
       "0  373554033.0     81.0          English  Released  ...   \n",
       "1  262797249.0    104.0          English  Released  ...   \n",
       "2          0.0    101.0          English  Released  ...   \n",
       "3   81452156.0    127.0          English  Released  ...   \n",
       "4   76578911.0    106.0          English  Released  ...   \n",
       "\n",
       "                  collection_poster               collection_backdrop  \\\n",
       "0  /7G9915LfUQ2lVfwMEEhDsn3kT4B.jpg  /9FBwqcd9IRruEDUrTdcaafOMKUq.jpg   \n",
       "1                              None                              None   \n",
       "2  /nLvUdqgPgm3F85NMCii9gVFUcet.jpg  /hypTnLot2z8wpFS7qwsQHW1uV8u.jpg   \n",
       "3                              None                              None   \n",
       "4  /nts4iOmNnq7GNicycMJ9pSAn204.jpg  /7qwE57OVZmMJChBpLEbJEmzUydk.jpg   \n",
       "\n",
       "         genre_ids                   genre_names  production_companies_ids  \\\n",
       "0  [16, 35, 10751]   [Animation, Comedy, Family]                       [3]   \n",
       "1  [12, 14, 10751]  [Adventure, Fantasy, Family]        [559, 2550, 10201]   \n",
       "2      [10749, 35]             [Romance, Comedy]             [6194, 19464]   \n",
       "3  [35, 18, 10749]      [Comedy, Drama, Romance]                     [306]   \n",
       "4             [35]                      [Comedy]              [5842, 9195]   \n",
       "\n",
       "                          production_companies_names  \\\n",
       "0                          [Pixar Animation Studios]   \n",
       "1  [TriStar Pictures, Teitler Film, Interscope Co...   \n",
       "2                     [Warner Bros., Lancaster Gate]   \n",
       "3           [Twentieth Century Fox Film Corporation]   \n",
       "4       [Sandollar Productions, Touchstone Pictures]   \n",
       "\n",
       "                    country release_month  \\\n",
       "0  United States of America            10   \n",
       "1  United States of America            12   \n",
       "2  United States of America            12   \n",
       "3  United States of America            12   \n",
       "4  United States of America             2   \n",
       "\n",
       "                                              elenco  \\\n",
       "0  [Tom Hanks, Tim Allen, Don Rickles, Jim Varney...   \n",
       "1  [Robin Williams, Jonathan Hyde, Kirsten Dunst,...   \n",
       "2  [Walter Matthau, Jack Lemmon, Ann-Margret, Sop...   \n",
       "3  [Whitney Houston, Angela Bassett, Loretta Devi...   \n",
       "4  [Steve Martin, Diane Keaton, Martin Short, Kim...   \n",
       "\n",
       "                                          directores  \n",
       "0  [John Lasseter, Joss Whedon, Andrew Stanton, J...  \n",
       "1  [Larry J. Franco, Jonathan Hensleigh, James Ho...  \n",
       "2  [Howard Deutch, Mark Steven Johnson, Mark Stev...  \n",
       "3  [Forest Whitaker, Ronald Bass, Ronald Bass, Ez...  \n",
       "4  [Alan Silvestri, Elliot Davis, Nancy Meyers, N...  \n",
       "\n",
       "[5 rows x 28 columns]"
      ]
     },
     "execution_count": 38,
     "metadata": {},
     "output_type": "execute_result"
    }
   ],
   "source": [
    "# Reemplazamos NaN por una lista compuesta por un diccionario vacío\n",
    "df['crew'] = df['crew'].apply(lambda x: [] if pd.isna(x) else x)\n",
    "\n",
    "# Utilizamos una función personalizada que verifique si el valor es una cadena y \n",
    "#luego intente convertirla en una lista para finalmente extraer los nombres del crew\n",
    "\n",
    "def extract_crew_names(value):\n",
    "    if isinstance(value, str):\n",
    "        try:\n",
    "            crew_list = ast.literal_eval(value)\n",
    "            return [d.get('name') for d in crew_list]\n",
    "        except (ValueError, SyntaxError):\n",
    "            return None\n",
    "    elif isinstance(value, list):\n",
    "        return [d.get('name') for d in value]\n",
    "    else:\n",
    "        return None\n",
    "#Creamos la columna \"crew_names\" compuesta por los valores de la clave\n",
    "df['directores'] = df['crew'].apply(extract_crew_names)\n",
    "\n",
    "#Reemplazamos las listas vacías por None\n",
    "df['directores'] = df['directores'].replace([], None)\n",
    "\n",
    "#Eliminamos la columna \"crew\" original\n",
    "df = df.drop('crew', axis=1)\n",
    "df.head()"
   ]
  },
  {
   "cell_type": "code",
   "execution_count": 41,
   "metadata": {},
   "outputs": [],
   "source": [
    "# Guardamos los cambios en el mismo csv\n",
    "df.to_csv(\"movie_dataset_clean.csv\", encoding='utf-8-sig', index=False, sep=',') "
   ]
  }
 ],
 "metadata": {
  "kernelspec": {
   "display_name": "Python 3",
   "language": "python",
   "name": "python3"
  },
  "language_info": {
   "codemirror_mode": {
    "name": "ipython",
    "version": 3
   },
   "file_extension": ".py",
   "mimetype": "text/x-python",
   "name": "python",
   "nbconvert_exporter": "python",
   "pygments_lexer": "ipython3",
   "version": "3.10.9"
  },
  "orig_nbformat": 4
 },
 "nbformat": 4,
 "nbformat_minor": 2
}
